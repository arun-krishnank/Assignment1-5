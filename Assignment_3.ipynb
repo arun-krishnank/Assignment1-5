{
 "cells": [
  {
   "cell_type": "markdown",
   "metadata": {},
   "source": [
    "# Assignment 3"
   ]
  },
  {
   "cell_type": "markdown",
   "metadata": {},
   "source": [
    "1.1 Write a Python Program to implement your own myreduce() function which works exactly\n",
    "like Python's built-in function reduce()"
   ]
  },
  {
   "cell_type": "code",
   "execution_count": 1,
   "metadata": {},
   "outputs": [
    {
     "data": {
      "text/plain": [
       "47"
      ]
     },
     "execution_count": 1,
     "metadata": {},
     "output_type": "execute_result"
    }
   ],
   "source": [
    "#Question 1.1\n",
    "def my_reduce(custom_func,custom_item): # The custom function passed to the reduce function takes two values at a time and perform the computation\n",
    "    retval = custom_func(custom_item[0],custom_item[1]) # Starting with the first two values in the list\n",
    "    custom_item.pop(0) # Removing the first two values already passed to the function\n",
    "    custom_item.pop(1)\n",
    "    for val in custom_item: # Iterating over the remaining elements of the list after removing the first two values\n",
    "        retval = custom_func(retval,val) # Each iteration uses the next element of the list and the return value from previous call\n",
    "    return retval\n",
    "\n",
    "lst=[47,11,42,13]\n",
    "my_reduce(lambda a,b:a if a > b else b, lst[:])"
   ]
  },
  {
   "cell_type": "markdown",
   "metadata": {},
   "source": [
    "1.2 Write a Python program to implement your own myfilter() function which works exactly\n",
    "like Python's built-in function filter()"
   ]
  },
  {
   "cell_type": "code",
   "execution_count": 2,
   "metadata": {},
   "outputs": [
    {
     "data": {
      "text/plain": [
       "[2, 4, 6, 8, 10]"
      ]
     },
     "execution_count": 2,
     "metadata": {},
     "output_type": "execute_result"
    }
   ],
   "source": [
    "#Question 1.2\n",
    "def my_filter(custom_func,custom_item):\n",
    "    for val in custom_item:\n",
    "        if custom_func(val):\n",
    "            yield val # Yield only those values for which the custom function returns True\n",
    "\n",
    "lst=[1,2,3,4,5,6,7,8,9,10]\n",
    "list(my_filter(lambda x:x%2 == 0, lst[:]))"
   ]
  },
  {
   "cell_type": "markdown",
   "metadata": {},
   "source": [
    "2. Implement List comprehensions to produce the following lists.\n",
    "Write List comprehensions to produce the following Lists\n",
    "['A', 'C', 'A', 'D', 'G', 'I', ’L’, ‘ D’]\n",
    "['x', 'xx', 'xxx', 'xxxx', 'y', 'yy', 'yyy', 'yyyy', 'z', 'zz', 'zzz', 'zzzz']\n",
    "['x', 'y', 'z', 'xx', 'yy', 'zz', 'xxx', 'yyy', 'zzz', 'xxxx', 'yyyy', 'zzzz']\n",
    "[[2], [3], [4], [3], [4], [5], [4], [5], [6]] [[2, 3, 4, 5], [3, 4, 5, 6],\n",
    "[4, 5, 6, 7], [5, 6, 7, 8]]\n",
    "[(1, 1), (2, 1), (3, 1), (1, 2), (2, 2), (3, 2), (1, 3), (2, 3), (3, 3)]"
   ]
  },
  {
   "cell_type": "code",
   "execution_count": 25,
   "metadata": {},
   "outputs": [
    {
     "name": "stdout",
     "output_type": "stream",
     "text": [
      "['A', 'C', 'A', 'D', 'G', 'I', 'L', 'D']\n",
      "['x', 'xx', 'xxx', 'xxxx', 'y', 'yy', 'yyy', 'yyyy', 'z', 'zz', 'zzz', 'zzzz']\n",
      "['x', 'y', 'z', 'xx', 'yy', 'zz', 'xxx', 'yyy', 'zzz', 'xxxx', 'yyyy', 'zzzz']\n",
      "[[2], [3], [4], [3], [4], [5], [4], [5], [6]]\n",
      "[[2, 3, 4, 5], [3, 4, 5, 6], [4, 5, 6, 7], [5, 6, 7, 8]]\n",
      "[(1, 1), (2, 1), (3, 1), (1, 2), (2, 2), (3, 2), (1, 3), (2, 3), (3, 3)]\n"
     ]
    }
   ],
   "source": [
    "#Question 2\n",
    "first_list=[x for x in 'ACADGILD']\n",
    "print(first_list)\n",
    "second_list = [item*i for item in 'xyz' for i in range(1,5)]\n",
    "print(second_list)\n",
    "third_list = [item*i for i in range(1,5) for item in 'xyz']\n",
    "print(third_list)\n",
    "fourth_list = [[x] for i in range(2,5) for x in range(i,i+3)]\n",
    "print(fourth_list)\n",
    "fifth_list = [list(range(x,x+4)) for x in range(2,6)]\n",
    "print(fifth_list)\n",
    "sixth_list = [(item1,item2) for item2 in range(1,4) for item1 in range(1,4)]\n",
    "print(sixth_list)"
   ]
  },
  {
   "cell_type": "markdown",
   "metadata": {},
   "source": [
    "3. Implement a function longestWord() that takes a list of words and returns the longest one."
   ]
  },
  {
   "cell_type": "code",
   "execution_count": 21,
   "metadata": {},
   "outputs": [
    {
     "name": "stdout",
     "output_type": "stream",
     "text": [
      "Powerstrike\n"
     ]
    }
   ],
   "source": [
    "#Question 3\n",
    "def longestWord(list_of_words):\n",
    "    word = list_of_words[0] # Initialize the longest word as the first word in the list\n",
    "    for item in list_of_words:\n",
    "        if len(item) > len(word): # Compare the length of the current word in this iteration against the longest word\n",
    "            word = item # Change the longest word to this word if the above condition holds True\n",
    "    return word\n",
    "\n",
    "word_dict = [\"Job\",\"Night\",\"Passion\",\"Skyfall\",\"Powerstrike\"]\n",
    "longest_word = longestWord(word_dict)\n",
    "print(longest_word)"
   ]
  }
 ],
 "metadata": {
  "kernelspec": {
   "display_name": "Python 3",
   "language": "python",
   "name": "python3"
  },
  "language_info": {
   "codemirror_mode": {
    "name": "ipython",
    "version": 3
   },
   "file_extension": ".py",
   "mimetype": "text/x-python",
   "name": "python",
   "nbconvert_exporter": "python",
   "pygments_lexer": "ipython3",
   "version": "3.7.4"
  }
 },
 "nbformat": 4,
 "nbformat_minor": 2
}
