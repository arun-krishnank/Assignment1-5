{
 "cells": [
  {
   "cell_type": "markdown",
   "metadata": {},
   "source": [
    "# Assignment 4"
   ]
  },
  {
   "cell_type": "markdown",
   "metadata": {},
   "source": [
    "1.1 Write a Python Program(with class concepts) to find the area of the triangle using the below\n",
    "formula.\n",
    "area = (s*(s-a)*(s-b)*(s-c)) ** 0.5\n",
    "Function to take the length of the sides of triangle from user should be defined in the parent\n",
    "class and function to calculate the area should be defined in subclass."
   ]
  },
  {
   "cell_type": "code",
   "execution_count": 10,
   "metadata": {},
   "outputs": [
    {
     "name": "stdout",
     "output_type": "stream",
     "text": [
      "Enter the first dimension: 10\n",
      "Enter the second dimension: 12\n",
      "Enter the third dimension: 15\n",
      "Area of triangle with sides measuring 10.00,12.00,15.00 units is: 59.8117 square units\n"
     ]
    }
   ],
   "source": [
    "#Question 1.1\n",
    "class Triangle:\n",
    "    def __init__(self):\n",
    "        self.a = 0.0\n",
    "        self.b = 0.0\n",
    "        self.c = 0.0\n",
    "        \n",
    "    def get_dimensions(self):\n",
    "        self.a=float(input(\"Enter the first dimension: \"))\n",
    "        self.b=float(input(\"Enter the second dimension: \"))\n",
    "        self.c=float(input(\"Enter the third dimension: \"))\n",
    "\n",
    "class Area(Triangle): #Inheritance, Triangle is Base Class and Area is Derived Class\n",
    "    def __init__(self):\n",
    "        super(Area,self).__init__() # Calling the constructor of the Base Class\n",
    "        self.area = 0.0\n",
    "        \n",
    "    def calculate_area(self):\n",
    "        self.get_dimensions()\n",
    "        s = (self.a+self.b+self.c)/2\n",
    "        self.area = (s*(s-self.a)*(s-self.b)*(s-self.c)) ** 0.5\n",
    "        print(\"Area of triangle with sides measuring %3.2f,%3.2f,%3.2f units is: %3.4f square units\" %(self.a,self.b,self.c,self.area))\n",
    "\n",
    "new_area = Area()\n",
    "new_area.calculate_area()"
   ]
  },
  {
   "cell_type": "markdown",
   "metadata": {},
   "source": [
    "1.2 Write a function filter_long_words() that takes a list of words and an integer n and returns\n",
    "the list of words that are longer than n."
   ]
  },
  {
   "cell_type": "code",
   "execution_count": 12,
   "metadata": {},
   "outputs": [
    {
     "name": "stdout",
     "output_type": "stream",
     "text": [
      "['solution', 'shared', 'through', 'Github', 'should', 'contain', 'source', 'screenshot', 'output']\n"
     ]
    }
   ],
   "source": [
    "#Question 1.2\n",
    "def filter_long_words(list_of_words,n):\n",
    "    new_list=[]\n",
    "    for word in list_of_words: # for loop to iterate through list of words\n",
    "        if len(word) > n:\n",
    "            new_list.append(word) # Create a new list with words of length greater than n\n",
    "    return new_list\n",
    "\n",
    "word_list = ['The','solution','shared','through','Github','should','contain','the','source','code','used','and','the','screenshot','of','the','output']\n",
    "long_word_list = filter_long_words(word_list,5)\n",
    "print(long_word_list)"
   ]
  },
  {
   "cell_type": "markdown",
   "metadata": {},
   "source": [
    "2.1 Write a Python program using function concept that maps list of words into a list of integers\n",
    "representing the lengths of the corresponding words.\n",
    "Hint: If a list [ ab,cde,erty] is passed on to the python function output should come as [2,3,4]\n",
    "Here 2,3 and 4 are the lengths of the words in the list."
   ]
  },
  {
   "cell_type": "code",
   "execution_count": 5,
   "metadata": {},
   "outputs": [
    {
     "name": "stdout",
     "output_type": "stream",
     "text": [
      "[2, 3, 4]\n"
     ]
    }
   ],
   "source": [
    "#Question 2.1\n",
    "list_of_words=['ab','cde','erty']\n",
    "length_list=list(map(lambda x:len(x),list_of_words)) # Using lambda function to map a string to it's length\n",
    "print(length_list)"
   ]
  },
  {
   "cell_type": "markdown",
   "metadata": {},
   "source": [
    "2.2 Write a Python function which takes a character (i.e. a string of length 1) and returns True if\n",
    "it is a vowel, False otherwise."
   ]
  },
  {
   "cell_type": "code",
   "execution_count": 4,
   "metadata": {},
   "outputs": [
    {
     "name": "stdout",
     "output_type": "stream",
     "text": [
      "True\n"
     ]
    }
   ],
   "source": [
    "#Question 2.2\n",
    "def vowel_check(char):\n",
    "    return char.lower() in 'aeiou' #Checking if the character passed is a vowel by checing for string inclusion\n",
    "print(vowel_check('i'))"
   ]
  }
 ],
 "metadata": {
  "kernelspec": {
   "display_name": "Python 3",
   "language": "python",
   "name": "python3"
  },
  "language_info": {
   "codemirror_mode": {
    "name": "ipython",
    "version": 3
   },
   "file_extension": ".py",
   "mimetype": "text/x-python",
   "name": "python",
   "nbconvert_exporter": "python",
   "pygments_lexer": "ipython3",
   "version": "3.7.4"
  }
 },
 "nbformat": 4,
 "nbformat_minor": 2
}
