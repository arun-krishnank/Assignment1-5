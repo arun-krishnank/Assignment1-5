{
 "cells": [
  {
   "cell_type": "markdown",
   "metadata": {},
   "source": [
    "# Assignment 2"
   ]
  },
  {
   "cell_type": "markdown",
   "metadata": {},
   "source": [
    "1. Write a program which accepts a sequence of comma-separated numbers from console\n",
    "and generate a list."
   ]
  },
  {
   "cell_type": "code",
   "execution_count": 89,
   "metadata": {},
   "outputs": [
    {
     "name": "stdout",
     "output_type": "stream",
     "text": [
      "Enter a sequence of numbers separated by commas: 7,1,4,9,8,3\n",
      "Elements of the list are as follows:\n",
      "['7', '1', '4', '9', '8', '3']\n"
     ]
    }
   ],
   "source": [
    "num_str = input(\"Enter a sequence of numbers separated by commas: \")\n",
    "num_list=num_str.split(\",\") #Splitting string with comma as a delimiter, to create a list\n",
    "\n",
    "print(\"Elements of the list are as follows:\")\n",
    "print(num_list)"
   ]
  },
  {
   "cell_type": "raw",
   "metadata": {},
   "source": [
    "2. Create the below pattern using nested for loop in Python.\n",
    "\n",
    "*\n",
    "* *\n",
    "* * *\n",
    "* * * *\n",
    "* * * * *\n",
    "* * * *\n",
    "* * *\n",
    "* *\n",
    "*\n"
   ]
  },
  {
   "cell_type": "code",
   "execution_count": 3,
   "metadata": {},
   "outputs": [
    {
     "name": "stdout",
     "output_type": "stream",
     "text": [
      "*\n",
      "**\n",
      "***\n",
      "****\n",
      "*****\n",
      "****\n",
      "***\n",
      "**\n",
      "*\n"
     ]
    }
   ],
   "source": [
    "#Using nested for loops to create the required patter\n",
    "for i in range(9): #Number of lines in the pattern\n",
    "    new_str=\"\"\n",
    "    if i < 5: #Top Half\n",
    "        for j in range(i+1):\n",
    "            new_str += \"*\"\n",
    "    else: # Bottom Half\n",
    "        for j in range(i+1,10):\n",
    "            new_str += \"*\"\n",
    "    print(new_str)"
   ]
  },
  {
   "cell_type": "markdown",
   "metadata": {},
   "source": [
    "3. Write a Python program to reverse a word after accepting the input from the user.\n",
    "Sample Output:\n",
    "Input word: AcadGild\n",
    "Output: dilGdacA"
   ]
  },
  {
   "cell_type": "code",
   "execution_count": 12,
   "metadata": {},
   "outputs": [
    {
     "name": "stdout",
     "output_type": "stream",
     "text": [
      "Please enter a word: AcadGild\n",
      "The reverse of the word is: dliGdacA\n"
     ]
    }
   ],
   "source": [
    "word = input(\"Please enter a word: \")\n",
    "print(\"The reverse of the word is:\", word[::-1]) #Reversing a word using negative indexing and string splicing"
   ]
  },
  {
   "cell_type": "markdown",
   "metadata": {},
   "source": [
    "4. Write a Python Program to print the given string in the format specified in the\n",
    "sample output.\n",
    "WE, THE PEOPLE OF INDIA, having solemnly resolved to constitute India into a SOVEREIGN,\n",
    "SOCIALIST, SECULAR, DEMOCRATIC REPUBLIC and to secure to all its citizens\n",
    "Sample Output:\n",
    "WE, THE PEOPLE OF INDIA,\n",
    "having solemnly resolved to constitute India into a SOVEREIGN, !\n",
    "SOCIALIST, SECULAR, DEMOCRATIC\n",
    "REPUBLIC and to secure to all its citizens"
   ]
  },
  {
   "cell_type": "code",
   "execution_count": 1,
   "metadata": {},
   "outputs": [
    {
     "name": "stdout",
     "output_type": "stream",
     "text": [
      "WE, THE PEOPLE OF INDIA,\n",
      "\t having solemnly resolved to constitute India into a SOVEREIGN,!\n",
      "\t\t SOCIALIST, SECULAR, DEMOCRATIC\n",
      "\t\t  REPUBLIC and to secure to all its citizens\n"
     ]
    }
   ],
   "source": [
    "given_string = \"WE, THE PEOPLE OF INDIA,{0}{1} having solemnly resolved to constitute India into a SOVEREIGN,{2}{3}{4} SOCIALIST, SECULAR, DEMOCRATIC{5} REPUBLIC and to secure to all its citizens\"\n",
    "#print(given_string.format(\"\\n\",\"     \",\"!\",\"\\n\",\"\\t    \",\"\\n\\t      \"))\n",
    "print(given_string.format(\"\\n\",\"\\t\",\"!\",\"\\n\",\"\\t\\t\",\"\\n\\t\\t \"))"
   ]
  }
 ],
 "metadata": {
  "kernelspec": {
   "display_name": "Python 3",
   "language": "python",
   "name": "python3"
  },
  "language_info": {
   "codemirror_mode": {
    "name": "ipython",
    "version": 3
   },
   "file_extension": ".py",
   "mimetype": "text/x-python",
   "name": "python",
   "nbconvert_exporter": "python",
   "pygments_lexer": "ipython3",
   "version": "3.7.4"
  }
 },
 "nbformat": 4,
 "nbformat_minor": 2
}
