{
 "cells": [
  {
   "cell_type": "code",
   "execution_count": 2,
   "metadata": {},
   "outputs": [
    {
     "name": "stdout",
     "output_type": "stream",
     "text": [
      "Enter a sequence of numbers separated by commas: 1,4,7,2,8,3\n",
      "Elements of the list are as follows:\n",
      "1\n",
      "4\n",
      "7\n",
      "2\n",
      "8\n",
      "3\n"
     ]
    }
   ],
   "source": [
    "#Question 1\n",
    "num_str = input(\"Enter a sequence of numbers separated by commas: \")\n",
    "num_list=num_str.split(\",\")\n",
    "\n",
    "print(\"Elements of the list are as follows:\")\n",
    "for i in num_list:\n",
    "    print(i)"
   ]
  },
  {
   "cell_type": "code",
   "execution_count": 10,
   "metadata": {},
   "outputs": [
    {
     "name": "stdout",
     "output_type": "stream",
     "text": [
      "*\n",
      "**\n",
      "***\n",
      "****\n",
      "*****\n",
      "****\n",
      "***\n",
      "**\n",
      "*\n"
     ]
    }
   ],
   "source": [
    "#Question 2\n",
    "for i in range(9):\n",
    "    new_str=\"\"\n",
    "    if i < 5:\n",
    "        for j in range(i+1):\n",
    "            new_str += \"*\"\n",
    "    else:\n",
    "        for j in range(i+1,10):\n",
    "            new_str += \"*\"\n",
    "    print(new_str)"
   ]
  },
  {
   "cell_type": "code",
   "execution_count": 12,
   "metadata": {},
   "outputs": [
    {
     "name": "stdout",
     "output_type": "stream",
     "text": [
      "Please enter a word: AcadGild\n",
      "The reverse of the word is: dliGdacA\n"
     ]
    }
   ],
   "source": [
    "#Question 3\n",
    "word = input(\"Please enter a word: \")\n",
    "print(\"The reverse of the word is:\", word[::-1])"
   ]
  },
  {
   "cell_type": "code",
   "execution_count": 54,
   "metadata": {},
   "outputs": [
    {
     "name": "stdout",
     "output_type": "stream",
     "text": [
      "WE, THE PEOPLE OF INDIA,\n",
      "\t having solemnly resolved to constitute India into a SOVEREIGN,!\n",
      "\t\t SOCIALIST, SECULAR, DEMOCRATIC\n",
      "\t\t REPUBLIC and to secure to all its citizens\n"
     ]
    }
   ],
   "source": [
    "#Question 4\n",
    "given_string = \"WE, THE PEOPLE OF INDIA, having solemnly resolved to constitute India into a SOVEREIGN, SOCIALIST, SECULAR, DEMOCRATIC REPUBLIC and to secure to all its citizens\"\n",
    "given_list = given_string.split(\",\")\n",
    "temp_list = given_list[5].split(\" \")\n",
    "\n",
    "line_one_two = \",\".join(given_list[0:2]) + \",\\n\\t\" + given_list[2] + \",!\\n\\t\\t\" \n",
    "line_three_four = \",\".join(given_list[3:5]) + \", \" + temp_list[1] + \"\\n\\t\\t \" + \" \".join(temp_list[2:])\n",
    "print(line_one_two + line_three_four)"
   ]
  }
 ],
 "metadata": {
  "kernelspec": {
   "display_name": "Python 3",
   "language": "python",
   "name": "python3"
  },
  "language_info": {
   "codemirror_mode": {
    "name": "ipython",
    "version": 3
   },
   "file_extension": ".py",
   "mimetype": "text/x-python",
   "name": "python",
   "nbconvert_exporter": "python",
   "pygments_lexer": "ipython3",
   "version": "3.7.4"
  }
 },
 "nbformat": 4,
 "nbformat_minor": 2
}
